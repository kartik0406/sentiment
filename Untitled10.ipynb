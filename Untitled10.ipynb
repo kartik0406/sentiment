{
  "nbformat": 4,
  "nbformat_minor": 0,
  "metadata": {
    "colab": {
      "provenance": []
    },
    "kernelspec": {
      "name": "python3",
      "display_name": "Python 3"
    },
    "language_info": {
      "name": "python"
    }
  },
  "cells": [
    {
      "cell_type": "code",
      "execution_count": 6,
      "metadata": {
        "colab": {
          "base_uri": "https://localhost:8080/"
        },
        "id": "8wZ-nfpxzPzZ",
        "outputId": "9925e5b5-1cd3-4aac-9796-1db11ac44ac1"
      },
      "outputs": [
        {
          "output_type": "stream",
          "name": "stdout",
          "text": [
            "Mounted at /content/drive\n",
            "Index(['Message', 'Target'], dtype='object')\n",
            "Index(['Message', 'Target'], dtype='object')\n",
            "Index(['Message', 'Target'], dtype='object')\n",
            "Accuracy: 0.8415300546448088\n"
          ]
        }
      ],
      "source": [
        "import pandas as pd\n",
        "from google.colab import drive\n",
        "drive.mount(\"/content/drive\", force_remount=True) \n",
        "from sklearn.feature_extraction.text import TfidfVectorizer\n",
        "from sklearn.model_selection import train_test_split\n",
        "from sklearn.linear_model import LogisticRegression\n",
        "from sklearn.metrics import accuracy_score\n",
        "\n",
        "# read the data into a pandas dataframe\n",
        "data1 = pd.read_table('/content/drive/MyDrive/amazon_cells_labelled.txt')\n",
        "data2 = pd.read_table('/content/drive/MyDrive/imdb_labelled.txt')\n",
        "data3 = pd.read_table('/content/drive/MyDrive/yelp_labelled.txt')\n",
        "frames = [data1,data2,data3]\n",
        "\n",
        "for colname in frames:\n",
        "    colname.columns = [\"Message\",\"Target\"]\n",
        "\n",
        "for colname in frames:\n",
        "    print(colname.columns)\n",
        "\n",
        "keys = ['Amazon','IMDB','Yelp']\n",
        "\n",
        "\n",
        "df = pd.concat(frames,keys=keys)\n",
        "\n",
        "# Preprocess the text data\n",
        "df['Message'] = df['Message'].str.lower()\n",
        "\n",
        "# Split the dataset into training and testing sets\n",
        "X_train, X_test, y_train, y_test = train_test_split(df['Message'], df['Target'], test_size=0.2, random_state=42)\n",
        "\n",
        "# Vectorize the text data using TF-IDF\n",
        "vectorizer = TfidfVectorizer()\n",
        "X_train = vectorizer.fit_transform(X_train)\n",
        "X_test = vectorizer.transform(X_test)\n",
        "\n",
        "# Train a logistic regression model\n",
        "model = LogisticRegression(random_state=42)\n",
        "model.fit(X_train, y_train)\n",
        "\n",
        "# Evaluate the model on the testing set\n",
        "y_pred = model.predict(X_test)\n",
        "accuracy = accuracy_score(y_test, y_pred)\n",
        "print('Accuracy:', accuracy)\n",
        "\n",
        "\n"
      ]
    },
    {
      "cell_type": "code",
      "source": [
        "# Use the trained model to analyze a large paragraph\n",
        "paragraph = 'I am sad and unhappy'\n",
        "paragraph = paragraph.lower()\n",
        "paragraph_vec = vectorizer.transform([paragraph])\n",
        "sentiment_prob = model.predict_proba(paragraph_vec)[0]\n",
        "pos_prob = sentiment_prob[1]\n",
        "neg_prob = sentiment_prob[0]\n",
        "print('Positive probability:', pos_prob)\n",
        "print('Negative probability:', neg_prob)"
      ],
      "metadata": {
        "colab": {
          "base_uri": "https://localhost:8080/"
        },
        "id": "upf_tfU4z5Nt",
        "outputId": "8ebd8c42-8b5b-4026-eff7-37631f171d29"
      },
      "execution_count": 7,
      "outputs": [
        {
          "output_type": "stream",
          "name": "stdout",
          "text": [
            "Positive probability: 0.4142362262213354\n",
            "Negative probability: 0.5857637737786646\n"
          ]
        }
      ]
    }
  ]
}